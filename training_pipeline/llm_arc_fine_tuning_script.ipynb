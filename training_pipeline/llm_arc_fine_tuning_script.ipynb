{
 "cells": [
  {
   "cell_type": "markdown",
   "id": "e85c4314",
   "metadata": {},
   "source": [
    "## Fine-tuning of a Large Language Model on AugARC Data"
   ]
  },
  {
   "cell_type": "markdown",
   "id": "acbf93ec",
   "metadata": {},
   "source": [
    "### Training script for any open-source LLM on the ARC Augmented Training Data with 2000 tasks"
   ]
  },
  {
   "cell_type": "code",
   "execution_count": null,
   "id": "e5295af5",
   "metadata": {},
   "outputs": [],
   "source": [
    "import transformers\n",
    "import torch\n",
    "from datasets import  Dataset\n",
    "from peft import (\n",
    "    LoraConfig,\n",
    "    prepare_model_for_kbit_training,\n",
    "    get_peft_model\n",
    ")\n",
    "from transformers import (\n",
    "    AutoModelForCausalLM,\n",
    "    AutoTokenizer,\n",
    "    BitsAndBytesConfig,\n",
    ")\n",
    "from trl import SFTTrainer"
   ]
  },
  {
   "cell_type": "markdown",
   "id": "b80dbdd3",
   "metadata": {},
   "source": [
    "### Load LLM and Tokenizer"
   ]
  },
  {
   "cell_type": "code",
   "execution_count": null,
   "id": "6d3f57ed",
   "metadata": {},
   "outputs": [],
   "source": [
    "model_name = \"meta-llama/Meta-Llama-3-70B\"\n",
    "\n",
    "bnb_config = BitsAndBytesConfig(\n",
    "    load_in_4bit=True,\n",
    "    bnb_4b_quant_type='nf4',\n",
    "    torch_dtype=torch.float16,\n",
    ")\n",
    "\n",
    "model = AutoModelForCausalLM.from_pretrained(\n",
    "    model_name,\n",
    "    use_safetensors=True,\n",
    "    device_map=\"auto\",\n",
    "    trust_remote_code=True,\n",
    "    quantization_config=bnb_config\n",
    ")"
   ]
  },
  {
   "cell_type": "code",
   "execution_count": null,
   "id": "08c49ea8",
   "metadata": {},
   "outputs": [],
   "source": [
    "tokenizer = AutoTokenizer.from_pretrained(model_name, padding=True, truncation=True, max_length=4096)\n",
    "tokenizer.pad_token=tokenizer.eos_token"
   ]
  },
  {
   "cell_type": "code",
   "execution_count": null,
   "id": "52d3090f",
   "metadata": {},
   "outputs": [],
   "source": [
    "model.gradient_checkpointing_enable()\n",
    "model = prepare_model_for_kbit_training(model)"
   ]
  },
  {
   "cell_type": "markdown",
   "id": "de179967",
   "metadata": {},
   "source": [
    "### Load LoRA Adapter"
   ]
  },
  {
   "cell_type": "code",
   "execution_count": null,
   "id": "bb938de2",
   "metadata": {},
   "outputs": [],
   "source": [
    "config = LoraConfig(\n",
    "    r=32,\n",
    "    lora_alpha=16,\n",
    "    bias=\"none\",\n",
    "    task_type=\"CASUAL_LM\",\n",
    ")"
   ]
  },
  {
   "cell_type": "code",
   "execution_count": null,
   "id": "d7c0ee0c",
   "metadata": {},
   "outputs": [],
   "source": [
    "model=get_peft_model(model, config)"
   ]
  },
  {
   "cell_type": "markdown",
   "id": "f0836942",
   "metadata": {},
   "source": [
    "### Dataset preparation"
   ]
  },
  {
   "cell_type": "code",
   "execution_count": null,
   "id": "ad71dd65",
   "metadata": {},
   "outputs": [],
   "source": [
    "import os\n",
    "import json\n",
    "\n",
    "def read_json_files(directory):\n",
    "    json_data = []\n",
    "\n",
    "    for filename in os.listdir(directory):\n",
    "        if filename.endswith('.json'):\n",
    "            file_path = os.path.join(directory, filename)\n",
    "\n",
    "            with open(file_path, 'r') as file:\n",
    "                try:\n",
    "                    data = json.load(file)\n",
    "                    json_data.append(data)\n",
    "                except json.JSONDecodeError as e:\n",
    "                    print(f\"Error reading {filename}: {e}\")\n",
    "\n",
    "    return json_data\n",
    "\n",
    "directory = 'arc_data/training'\n",
    "all_json_data = read_json_files(directory)"
   ]
  },
  {
   "cell_type": "code",
   "execution_count": null,
   "id": "30f51ccc",
   "metadata": {},
   "outputs": [],
   "source": [
    "def transform_input(data):\n",
    "    transformed_data = {}\n",
    "\n",
    "    for key in ['train', 'test']:\n",
    "        transformed_data[key] = ''\n",
    "        for case in data[key]:\n",
    "            input_matrix = case['input']\n",
    "            output_matrix = case['output']\n",
    "            new_input = ''\n",
    "            new_output = ''\n",
    "            for row in input_matrix:\n",
    "                for i, element in enumerate(row):\n",
    "                    new_input += str(element)\n",
    "                    if i < len(row) -1 :\n",
    "                        new_input += ' '\n",
    "                    else:\n",
    "                        new_input += '\\n'\n",
    "\n",
    "            for row in output_matrix:\n",
    "                for i, element in enumerate(row):\n",
    "                    new_output += str(element)\n",
    "                    if i < len(row) -1 :\n",
    "                        new_output += ' '\n",
    "                    else:\n",
    "                        new_output += '\\n'\n",
    "\n",
    "            transformed_data[key] += f'\\n###Input:\\n{new_input}\\n###Output:\\n{new_output}'\n",
    "\n",
    "    return transformed_data"
   ]
  },
  {
   "cell_type": "code",
   "execution_count": null,
   "id": "c991843f",
   "metadata": {},
   "outputs": [],
   "source": [
    "def extract_after_output(text):\n",
    "    index = text.find('###Output:\\n')\n",
    "    if index != -1:\n",
    "        return text[index + len('###Output:\\n'):]\n",
    "    else:\n",
    "        return text\n",
    "\n",
    "def extract_before_output(text):\n",
    "    index = text.find('###Output:\\n')\n",
    "    if index != -1:\n",
    "        return text[:index]\n",
    "    else:\n",
    "        return text"
   ]
  },
  {
   "cell_type": "code",
   "execution_count": null,
   "id": "c951253d",
   "metadata": {},
   "outputs": [],
   "source": [
    "DEFAULT_PROMPT = \"We are playing a game which involves transforming a 2D input grid of digits into an output grid of digits. Every below pair of grids contains the same transformation. Each Input grid is followed by an Output grid which applies the same transformation as previous Input/Output pairs. Given the provided examples, output the correct grid for the last input\"\n",
    "\n",
    "def generate_train_prompt(data_point):\n",
    "    train = data_point['train']\n",
    "    test = data_point['test']\n",
    "    correct_output = extract_after_output(test).strip()\n",
    "    text = f'{DEFAULT_PROMPT}\\n{train}\\n{test}'\n",
    "    return {'text': text, 'labels': correct_output}"
   ]
  },
  {
   "cell_type": "code",
   "execution_count": null,
   "id": "4fdf6316",
   "metadata": {},
   "outputs": [],
   "source": [
    "def flip_2d_list(matrix, flip_type):\n",
    "    if flip_type == 'horizontal':\n",
    "        # Flip each row\n",
    "        return [row[::-1] for row in matrix]\n",
    "    elif flip_type == 'vertical':\n",
    "        # Reverse the order of rows\n",
    "        return matrix[::-1]\n",
    "    else:\n",
    "        raise ValueError(\"Invalid flip type. Use 'horizontal' or 'vertical'.\")\n",
    "\n",
    "def rotate_matrix_90_degrees(matrix):\n",
    "    return [list(row) for row in zip(*matrix[::-1])]\n",
    "\n",
    "def rotate_matrix_270_degrees(matrix):\n",
    "    return [list(row) for row in zip(*matrix)][::-1]\n"
   ]
  },
  {
   "cell_type": "code",
   "execution_count": null,
   "id": "6da6c54e",
   "metadata": {},
   "outputs": [],
   "source": [
    "def transform_input_horizontal(data):\n",
    "    transformed_data = {}\n",
    "\n",
    "    for key in ['train', 'test']:\n",
    "        transformed_data[key] = ''\n",
    "        for case in data[key]:\n",
    "            input_matrix = flip_2d_list(case['input'], 'horizontal')\n",
    "            output_matrix = flip_2d_list(case['output'], 'horizontal')\n",
    "            new_input = ''\n",
    "            new_output = ''\n",
    "            for row in input_matrix:\n",
    "                for i, element in enumerate(row):\n",
    "                    new_input += str(element)\n",
    "                    if i < len(row) -1 :\n",
    "                        new_input += ' '\n",
    "                    else:\n",
    "                        new_input += '\\n'\n",
    "\n",
    "            for row in output_matrix:\n",
    "                for i, element in enumerate(row):\n",
    "                    new_output += str(element)\n",
    "                    if i < len(row) -1 :\n",
    "                        new_output += ' '\n",
    "                    else:\n",
    "                        new_output += '\\n'\n",
    "\n",
    "            transformed_data[key] += f'\\n###Input:\\n{new_input}\\n###Output:\\n{new_output}'\n",
    "\n",
    "    return transformed_data\n"
   ]
  },
  {
   "cell_type": "code",
   "execution_count": null,
   "id": "3192dad0",
   "metadata": {},
   "outputs": [],
   "source": [
    "def transform_input_vertical(data):\n",
    "    transformed_data = {}\n",
    "\n",
    "    for key in ['train', 'test']:\n",
    "        transformed_data[key] = ''\n",
    "        for case in data[key]:\n",
    "            input_matrix = flip_2d_list(case['input'], 'vertical')\n",
    "            output_matrix = flip_2d_list(case['output'], 'vertical')\n",
    "            new_input = ''\n",
    "            new_output = ''\n",
    "            for row in input_matrix:\n",
    "                for i, element in enumerate(row):\n",
    "                    new_input += str(element)\n",
    "                    if i < len(row) -1 :\n",
    "                        new_input += ' '\n",
    "                    else:\n",
    "                        new_input += '\\n'\n",
    "\n",
    "            for row in output_matrix:\n",
    "                for i, element in enumerate(row):\n",
    "                    new_output += str(element)\n",
    "                    if i < len(row) -1 :\n",
    "                        new_output += ' '\n",
    "                    else:\n",
    "                        new_output += '\\n'\n",
    "\n",
    "            # Add the output matrix to the transformed data\n",
    "            transformed_data[key] += f'\\n###Input:\\n{new_input}\\n###Output:\\n{new_output}'\n",
    "\n",
    "    return transformed_data\n"
   ]
  },
  {
   "cell_type": "code",
   "execution_count": null,
   "id": "4b4e4907",
   "metadata": {},
   "outputs": [],
   "source": [
    "def transform_input_270(data):\n",
    "    transformed_data = {}\n",
    "\n",
    "    for key in ['train', 'test']:\n",
    "        transformed_data[key] = ''\n",
    "        for case in data[key]:\n",
    "            input_matrix = rotate_matrix_270_degrees(case['input'])\n",
    "            output_matrix = rotate_matrix_270_degrees(case['output'])\n",
    "            new_input = ''\n",
    "            new_output = ''\n",
    "            for row in input_matrix:\n",
    "                for i, element in enumerate(row):\n",
    "                    new_input += str(element)\n",
    "                    if i < len(row) -1 :\n",
    "                        new_input += ' '\n",
    "                    else:\n",
    "                        new_input += '\\n'\n",
    "\n",
    "            for row in output_matrix:\n",
    "                for i, element in enumerate(row):\n",
    "                    new_output += str(element)\n",
    "                    if i < len(row) -1 :\n",
    "                        new_output += ' '\n",
    "                    else:\n",
    "                        new_output += '\\n'\n",
    "\n",
    "            transformed_data[key] += f'\\n###Input:\\n{new_input}\\n###Output:\\n{new_output}'\n",
    "\n",
    "    return transformed_data"
   ]
  },
  {
   "cell_type": "code",
   "execution_count": null,
   "id": "239425bc",
   "metadata": {},
   "outputs": [],
   "source": [
    "def transform_input_90(data):\n",
    "    transformed_data = {}\n",
    "\n",
    "    for key in ['train', 'test']:\n",
    "        transformed_data[key] = ''\n",
    "        for case in data[key]:\n",
    "            input_matrix = rotate_matrix_90_degrees(case['input'])\n",
    "            output_matrix = rotate_matrix_90_degrees(case['output'])\n",
    "            new_input = ''\n",
    "            new_output = ''\n",
    "            for row in input_matrix:\n",
    "                for i, element in enumerate(row):\n",
    "                    new_input += str(element)\n",
    "                    if i < len(row) -1 :\n",
    "                        new_input += ' '\n",
    "                    else:\n",
    "                        new_input += '\\n'\n",
    "\n",
    "            for row in output_matrix:\n",
    "                for i, element in enumerate(row):\n",
    "                    new_output += str(element)\n",
    "                    if i < len(row) -1 :\n",
    "                        new_output += ' '\n",
    "                    else:\n",
    "                        new_output += '\\n'\n",
    "\n",
    "            transformed_data[key] += f'\\n###Input:\\n{new_input}\\n###Output:\\n{new_output}'\n",
    "\n",
    "    return transformed_data\n"
   ]
  },
  {
   "cell_type": "code",
   "execution_count": null,
   "id": "4832d719",
   "metadata": {},
   "outputs": [],
   "source": [
    "train_data = []\n",
    "\n",
    "for i, element in enumerate(all_json_data):\n",
    "    train_data.append(generate_train_prompt(transform_input(element)))\n",
    "    train_data.append(generate_train_prompt(transform_input_90(element)))\n",
    "    train_data.append(generate_train_prompt(transform_input_270(element)))\n",
    "    train_data.append(generate_train_prompt(transform_input_vertical(element)))\n",
    "    train_data.append(generate_train_prompt(transform_input_horizontal(element)))"
   ]
  },
  {
   "cell_type": "code",
   "execution_count": null,
   "id": "15b252eb",
   "metadata": {},
   "outputs": [],
   "source": [
    "train_dataset = Dataset.from_list(train_data)"
   ]
  },
  {
   "cell_type": "markdown",
   "id": "11eedfce",
   "metadata": {},
   "source": [
    "### Training"
   ]
  },
  {
   "cell_type": "code",
   "execution_count": 3,
   "id": "b8d28a03",
   "metadata": {},
   "outputs": [],
   "source": [
    "# Configure hyperparameters\n",
    "batch_size=8\n",
    "steps=64\n",
    "lr=0.0004\n",
    "epochs=24"
   ]
  },
  {
   "cell_type": "code",
   "execution_count": null,
   "id": "57716562",
   "metadata": {},
   "outputs": [],
   "source": [
    "training_args = transformers.TrainingArguments(\n",
    "    per_device_train_batch_size=batch_size,\n",
    "    gradient_accumulation_steps=steps,\n",
    "    learning_rate=lr,\n",
    "    fp16=True,\n",
    "    num_train_epochs=epochs,\n",
    "    save_strategy=\"epoch\",\n",
    "    save_safetensors=True,\n",
    "    lr_scheduler_type=\"cosine\",\n",
    "    optim=\"paged_adamw_8bit\",\n",
    "    output_dir='./experiments',\n",
    "    remove_unused_columns=False,\n",
    "    warmup_ratio=0.05,\n",
    "    logging_strategy='epoch',\n",
    "    label_names=['labels'],\n",
    "    group_by_length=True\n",
    ")\n",
    "\n",
    "trainer = SFTTrainer(\n",
    "    model=model,\n",
    "    train_dataset=train_dataset,\n",
    "    args=training_args,\n",
    "    tokenizer=tokenizer,\n",
    "    dataset_text_field='text',\n",
    "    peft_config=config,\n",
    "    max_seq_length=4096\n",
    ")"
   ]
  },
  {
   "cell_type": "code",
   "execution_count": null,
   "id": "b7e99735",
   "metadata": {
    "scrolled": false
   },
   "outputs": [],
   "source": [
    "model.config.use_cache = False\n",
    "trainer.state.log_history = True\n",
    "trainer.train()"
   ]
  },
  {
   "cell_type": "markdown",
   "id": "3efc42a7",
   "metadata": {},
   "source": [
    "### Save the fine-tuned model"
   ]
  },
  {
   "cell_type": "code",
   "execution_count": null,
   "id": "05eb5131",
   "metadata": {},
   "outputs": [],
   "source": [
    "model.save_pretrained(f'{model_name}_{str(epochs)}_epochs_augmented_2000_lr_0_0004')"
   ]
  }
 ],
 "metadata": {
  "kernelspec": {
   "display_name": "Python3.11current",
   "language": "python",
   "name": "python3.11current"
  },
  "language_info": {
   "codemirror_mode": {
    "name": "ipython",
    "version": 3
   },
   "file_extension": ".py",
   "mimetype": "text/x-python",
   "name": "python",
   "nbconvert_exporter": "python",
   "pygments_lexer": "ipython3",
   "version": "3.11.5"
  }
 },
 "nbformat": 4,
 "nbformat_minor": 5
}

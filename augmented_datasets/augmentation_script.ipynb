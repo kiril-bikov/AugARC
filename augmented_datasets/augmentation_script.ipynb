{
 "cells": [
  {
   "cell_type": "markdown",
   "id": "e85c4314",
   "metadata": {},
   "source": [
    "## Augmentating the ARC Training Data"
   ]
  },
  {
   "cell_type": "markdown",
   "id": "f0836942",
   "metadata": {},
   "source": [
    "### Dataset preparation"
   ]
  },
  {
   "cell_type": "code",
   "execution_count": 2,
   "id": "ad71dd65",
   "metadata": {},
   "outputs": [],
   "source": [
    "import os\n",
    "import json\n",
    "\n",
    "def read_json_files(directory):\n",
    "    json_data = []\n",
    "\n",
    "    for filename in os.listdir(directory):\n",
    "        if filename.endswith('.json'):\n",
    "            file_path = os.path.join(directory, filename)\n",
    "\n",
    "            with open(file_path, 'r') as file:\n",
    "                try:\n",
    "                    data = json.load(file)\n",
    "                    json_data.append(data)\n",
    "                except json.JSONDecodeError as e:\n",
    "                    print(f\"Error reading {filename}: {e}\")\n",
    "\n",
    "    return json_data\n",
    "\n",
    "directory = 'arc_data/training'\n",
    "all_json_data = read_json_files(directory)"
   ]
  },
  {
   "cell_type": "code",
   "execution_count": 3,
   "id": "30f51ccc",
   "metadata": {},
   "outputs": [],
   "source": [
    "def transform_input(data):\n",
    "    transformed_data = {}\n",
    "\n",
    "    # Iterate through each train and test case\n",
    "    for key in ['train', 'test']:\n",
    "        transformed_data[key] = ''\n",
    "        for case in data[key]:\n",
    "            input_matrix = case['input']\n",
    "            output_matrix = case['output']\n",
    "            new_input = ''\n",
    "            new_output = ''\n",
    "            for row in input_matrix:\n",
    "                for i, element in enumerate(row):\n",
    "                    new_input += str(element)\n",
    "                    if i < len(row) -1 :\n",
    "                        new_input += ' '\n",
    "                    else:\n",
    "                        new_input += '\\n'\n",
    "\n",
    "            for row in output_matrix:\n",
    "                for i, element in enumerate(row):\n",
    "                    new_output += str(element)\n",
    "                    if i < len(row) -1 :\n",
    "                        new_output += ' '\n",
    "                    else:\n",
    "                        new_output += '\\n'\n",
    "\n",
    "            # Add the output matrix to the transformed data\n",
    "            transformed_data[key] += f'\\n###Input:\\n{new_input}\\n###Output:\\n{new_output}'\n",
    "\n",
    "    return transformed_data"
   ]
  },
  {
   "cell_type": "code",
   "execution_count": 4,
   "id": "c991843f",
   "metadata": {},
   "outputs": [],
   "source": [
    "def extract_after_output(text):\n",
    "    index = text.find('###Output:\\n')\n",
    "    if index != -1:\n",
    "        return text[index + len('###Output:\\n'):]\n",
    "    else:\n",
    "        return text\n",
    "\n",
    "def extract_before_output(text):\n",
    "    index = text.find('###Output:\\n')\n",
    "    if index != -1:\n",
    "        return text[:index]\n",
    "    else:\n",
    "        return text"
   ]
  },
  {
   "cell_type": "code",
   "execution_count": 5,
   "id": "c951253d",
   "metadata": {},
   "outputs": [],
   "source": [
    "DEFAULT_PROMPT = \"We are playing a game which involves transforming a 2D input grid of digits into an output grid of digits. Every below pair of grids contains the same transformation. Each Input grid is followed by an Output grid which applies the same transformation as previous Input/Output pairs. Given the provided examples, output the correct grid for the last input.\"\n",
    "\n",
    "def generate_train_prompt(data_point):\n",
    "    train = data_point['train']\n",
    "    test = data_point['test']\n",
    "    correct_output = extract_after_output(test).strip()\n",
    "    text = f'{DEFAULT_PROMPT}\\n{train}\\n{test}'\n",
    "    return {'text': text, 'labels': correct_output}"
   ]
  },
  {
   "cell_type": "code",
   "execution_count": 6,
   "id": "4fdf6316",
   "metadata": {},
   "outputs": [],
   "source": [
    "def flip_2d_list(matrix, flip_type):\n",
    "    if flip_type == 'horizontal':\n",
    "        # Flip each row\n",
    "        return [row[::-1] for row in matrix]\n",
    "    elif flip_type == 'vertical':\n",
    "        # Reverse the order of rows\n",
    "        return matrix[::-1]\n",
    "    else:\n",
    "        raise ValueError(\"Invalid flip type. Use 'horizontal' or 'vertical'.\")\n",
    "\n",
    "def rotate_matrix_90_degrees(matrix):\n",
    "    return [list(row) for row in zip(*matrix[::-1])]\n",
    "\n",
    "def rotate_matrix_270_degrees(matrix):\n",
    "    return [list(row) for row in zip(*matrix)][::-1]\n"
   ]
  },
  {
   "cell_type": "code",
   "execution_count": 7,
   "id": "6da6c54e",
   "metadata": {},
   "outputs": [],
   "source": [
    "def transform_input_horizontal(data):\n",
    "    transformed_data = {}\n",
    "\n",
    "    # Iterate through each train and test case\n",
    "    for key in ['train', 'test']:\n",
    "        transformed_data[key] = ''\n",
    "        for case in data[key]:\n",
    "            input_matrix = flip_2d_list(case['input'], 'horizontal')\n",
    "            output_matrix = flip_2d_list(case['output'], 'horizontal')\n",
    "            new_input = ''\n",
    "            new_output = ''\n",
    "            for row in input_matrix:\n",
    "                for i, element in enumerate(row):\n",
    "                    new_input += str(element)\n",
    "                    if i < len(row) -1 :\n",
    "                        new_input += ' '\n",
    "                    else:\n",
    "                        new_input += '\\n'\n",
    "\n",
    "            for row in output_matrix:\n",
    "                for i, element in enumerate(row):\n",
    "                    new_output += str(element)\n",
    "                    if i < len(row) -1 :\n",
    "                        new_output += ' '\n",
    "                    else:\n",
    "                        new_output += '\\n'\n",
    "\n",
    "            # Add the output matrix to the transformed data\n",
    "            transformed_data[key] += f'\\n###Input:\\n{new_input}\\n###Output:\\n{new_output}'\n",
    "\n",
    "    return transformed_data\n"
   ]
  },
  {
   "cell_type": "code",
   "execution_count": 8,
   "id": "3192dad0",
   "metadata": {},
   "outputs": [],
   "source": [
    "def transform_input_vertical(data):\n",
    "    transformed_data = {}\n",
    "\n",
    "    # Iterate through each train and test case\n",
    "    for key in ['train', 'test']:\n",
    "        transformed_data[key] = ''\n",
    "        for case in data[key]:\n",
    "            input_matrix = flip_2d_list(case['input'], 'vertical')\n",
    "            output_matrix = flip_2d_list(case['output'], 'vertical')\n",
    "            new_input = ''\n",
    "            new_output = ''\n",
    "            for row in input_matrix:\n",
    "                for i, element in enumerate(row):\n",
    "                    new_input += str(element)\n",
    "                    if i < len(row) -1 :\n",
    "                        new_input += ' '\n",
    "                    else:\n",
    "                        new_input += '\\n'\n",
    "\n",
    "            for row in output_matrix:\n",
    "                for i, element in enumerate(row):\n",
    "                    new_output += str(element)\n",
    "                    if i < len(row) -1 :\n",
    "                        new_output += ' '\n",
    "                    else:\n",
    "                        new_output += '\\n'\n",
    "\n",
    "            # Add the output matrix to the transformed data\n",
    "            transformed_data[key] += f'\\n###Input:\\n{new_input}\\n###Output:\\n{new_output}'\n",
    "\n",
    "    return transformed_data\n"
   ]
  },
  {
   "cell_type": "code",
   "execution_count": 9,
   "id": "4b4e4907",
   "metadata": {},
   "outputs": [],
   "source": [
    "def transform_input_270(data):\n",
    "    transformed_data = {}\n",
    "\n",
    "    # Iterate through each train and test case\n",
    "    for key in ['train', 'test']:\n",
    "        transformed_data[key] = ''\n",
    "        for case in data[key]:\n",
    "            input_matrix = rotate_matrix_270_degrees(case['input'])\n",
    "            output_matrix = rotate_matrix_270_degrees(case['output'])\n",
    "            new_input = ''\n",
    "            new_output = ''\n",
    "            for row in input_matrix:\n",
    "                for i, element in enumerate(row):\n",
    "                    new_input += str(element)\n",
    "                    if i < len(row) -1 :\n",
    "                        new_input += ' '\n",
    "                    else:\n",
    "                        new_input += '\\n'\n",
    "\n",
    "            for row in output_matrix:\n",
    "                for i, element in enumerate(row):\n",
    "                    new_output += str(element)\n",
    "                    if i < len(row) -1 :\n",
    "                        new_output += ' '\n",
    "                    else:\n",
    "                        new_output += '\\n'\n",
    "\n",
    "            # Add the output matrix to the transformed data\n",
    "            transformed_data[key] += f'\\n###Input:\\n{new_input}\\n###Output:\\n{new_output}'\n",
    "\n",
    "    return transformed_data"
   ]
  },
  {
   "cell_type": "code",
   "execution_count": 10,
   "id": "239425bc",
   "metadata": {},
   "outputs": [],
   "source": [
    "def transform_input_90(data):\n",
    "    transformed_data = {}\n",
    "\n",
    "    # Iterate through each train and test case\n",
    "    for key in ['train', 'test']:\n",
    "        transformed_data[key] = ''\n",
    "        for case in data[key]:\n",
    "            input_matrix = rotate_matrix_90_degrees(case['input'])\n",
    "            output_matrix = rotate_matrix_90_degrees(case['output'])\n",
    "            new_input = ''\n",
    "            new_output = ''\n",
    "            for row in input_matrix:\n",
    "                for i, element in enumerate(row):\n",
    "                    new_input += str(element)\n",
    "                    if i < len(row) -1 :\n",
    "                        new_input += ' '\n",
    "                    else:\n",
    "                        new_input += '\\n'\n",
    "\n",
    "            for row in output_matrix:\n",
    "                for i, element in enumerate(row):\n",
    "                    new_output += str(element)\n",
    "                    if i < len(row) -1 :\n",
    "                        new_output += ' '\n",
    "                    else:\n",
    "                        new_output += '\\n'\n",
    "\n",
    "            # Add the output matrix to the transformed data\n",
    "            transformed_data[key] += f'\\n###Input:\\n{new_input}\\n###Output:\\n{new_output}'\n",
    "\n",
    "    return transformed_data\n"
   ]
  },
  {
   "cell_type": "code",
   "execution_count": 13,
   "id": "7752f518",
   "metadata": {},
   "outputs": [],
   "source": [
    "from itertools import permutations"
   ]
  },
  {
   "cell_type": "code",
   "execution_count": 34,
   "id": "4832d719",
   "metadata": {},
   "outputs": [],
   "source": [
    "augemented_data = []\n",
    "\n",
    "for i, element in enumerate(all_json_data):\n",
    "    train_permutation = permutations(all_json_data[i]['train'])\n",
    "    train_permutation = list(train_permutation)\n",
    "    for j in range(len(train_permutation)):\n",
    "        element['train'] = train_permutation[j]\n",
    "        augemented_data.append(generate_train_prompt(transform_input(element)))\n",
    "        augemented_data.append(generate_train_prompt(transform_input_90(element)))\n",
    "        augemented_data.append(generate_train_prompt(transform_input_270(element)))\n",
    "        augemented_data.append(generate_train_prompt(transform_input_vertical(element)))\n",
    "        augemented_data.append(generate_train_prompt(transform_input_horizontal(element)))"
   ]
  },
  {
   "cell_type": "code",
   "execution_count": 35,
   "id": "556a7eb3",
   "metadata": {},
   "outputs": [],
   "source": [
    "num_tasks = len(augemented_data)"
   ]
  },
  {
   "cell_type": "code",
   "execution_count": 36,
   "id": "c935180f",
   "metadata": {},
   "outputs": [
    {
     "name": "stdout",
     "output_type": "stream",
     "text": [
      "Number of tasks in the new augmented dataset: 18668610\n"
     ]
    }
   ],
   "source": [
    "print(f'Number of tasks in the new augmented dataset: {len(augemented_data)}')"
   ]
  },
  {
   "cell_type": "markdown",
   "id": "3efc42a7",
   "metadata": {},
   "source": [
    "### Save the augmented dataset"
   ]
  },
  {
   "cell_type": "code",
   "execution_count": 37,
   "id": "a539c18f",
   "metadata": {},
   "outputs": [],
   "source": [
    "with open(f\"arc_augmented_{str(num_tasks)}_tasks.json\", \"w\") as file:\n",
    "    json.dump(augemented_data, file, indent=4)"
   ]
  }
 ],
 "metadata": {
  "kernelspec": {
   "display_name": "Python3.11current",
   "language": "python",
   "name": "python3.11current"
  },
  "language_info": {
   "codemirror_mode": {
    "name": "ipython",
    "version": 3
   },
   "file_extension": ".py",
   "mimetype": "text/x-python",
   "name": "python",
   "nbconvert_exporter": "python",
   "pygments_lexer": "ipython3",
   "version": "3.11.5"
  }
 },
 "nbformat": 4,
 "nbformat_minor": 5
}
